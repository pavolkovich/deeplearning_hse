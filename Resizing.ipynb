{
 "cells": [
  {
   "cell_type": "code",
   "execution_count": 34,
   "metadata": {
    "collapsed": false
   },
   "outputs": [],
   "source": [
    "import os\n",
    "import cv2\n",
    "import numpy as np"
   ]
  },
  {
   "cell_type": "code",
   "execution_count": 62,
   "metadata": {
    "collapsed": true
   },
   "outputs": [],
   "source": [
    "def get_immediate_subdirectories(a_dir):\n",
    "    return [name for name in os.listdir(a_dir)\n",
    "            if os.path.isdir(os.path.join(a_dir, name))]"
   ]
  },
  {
   "cell_type": "code",
   "execution_count": 67,
   "metadata": {
    "collapsed": false
   },
   "outputs": [],
   "source": [
    "#set a path to your dataset\n",
    "root = ('C:/Users/Lena/Downloads/101')\n",
    "directories = get_immediate_subdirectories(root)"
   ]
  },
  {
   "cell_type": "code",
   "execution_count": 68,
   "metadata": {
    "collapsed": false
   },
   "outputs": [],
   "source": [
    "def get_files(a_dir):\n",
    "    return [name for name in os.listdir(a_dir)\n",
    "            if os.path.isfile(os.path.join(a_dir, name))]"
   ]
  },
  {
   "cell_type": "code",
   "execution_count": 71,
   "metadata": {
    "collapsed": false
   },
   "outputs": [
    {
     "name": "stdout",
     "output_type": "stream",
     "text": [
      "name:  accordion\n",
      "name:  airplanes\n",
      "name:  anchor\n",
      "name:  ant\n",
      "name:  BACKGROUND_Google\n",
      "name:  barrel\n",
      "name:  bass\n",
      "name:  beaver\n",
      "name:  binocular\n",
      "name:  bonsai\n",
      "name:  brain\n",
      "name:  brontosaurus\n",
      "name:  buddha\n",
      "name:  butterfly\n",
      "name:  camera\n",
      "name:  cannon\n",
      "name:  car_side\n",
      "name:  ceiling_fan\n",
      "name:  cellphone\n",
      "name:  chair\n",
      "name:  chandelier\n",
      "name:  cougar_body\n",
      "name:  cougar_face\n",
      "name:  crab\n",
      "name:  crayfish\n",
      "name:  crocodile\n",
      "name:  crocodile_head\n",
      "name:  cup\n",
      "name:  dalmatian\n",
      "name:  dollar_bill\n",
      "name:  dolphin\n",
      "name:  dragonfly\n",
      "name:  electric_guitar\n",
      "name:  elephant\n",
      "name:  emu\n",
      "name:  euphonium\n",
      "name:  ewer\n",
      "name:  Faces\n",
      "name:  Faces_easy\n",
      "name:  ferry\n",
      "name:  flamingo\n",
      "name:  flamingo_head\n",
      "name:  garfield\n",
      "name:  gerenuk\n",
      "name:  gramophone\n",
      "name:  grand_piano\n",
      "name:  hawksbill\n",
      "name:  headphone\n",
      "name:  hedgehog\n",
      "name:  helicopter\n",
      "name:  ibis\n",
      "name:  inline_skate\n",
      "name:  joshua_tree\n",
      "name:  kangaroo\n",
      "name:  ketch\n",
      "name:  lamp\n",
      "name:  laptop\n",
      "name:  Leopards\n",
      "name:  llama\n",
      "name:  lobster\n",
      "name:  lotus\n",
      "name:  mandolin\n",
      "name:  mayfly\n",
      "name:  menorah\n",
      "name:  metronome\n",
      "name:  minaret\n",
      "name:  Motorbikes\n",
      "name:  nautilus\n",
      "name:  octopus\n",
      "name:  okapi\n",
      "name:  pagoda\n",
      "name:  panda\n",
      "name:  pigeon\n",
      "name:  pizza\n",
      "name:  platypus\n",
      "name:  pyramid\n",
      "name:  revolver\n",
      "name:  rhino\n",
      "name:  rooster\n",
      "name:  saxophone\n",
      "name:  schooner\n",
      "name:  scissors\n",
      "name:  scorpion\n",
      "name:  sea_horse\n",
      "name:  snoopy\n",
      "name:  soccer_ball\n",
      "name:  stapler\n",
      "name:  starfish\n",
      "name:  stegosaurus\n",
      "name:  stop_sign\n",
      "name:  strawberry\n",
      "name:  sunflower\n",
      "name:  tick\n",
      "name:  trilobite\n",
      "name:  umbrella\n",
      "name:  watch\n",
      "name:  water_lilly\n",
      "name:  wheelchair\n",
      "name:  wild_cat\n",
      "name:  windsor_chair\n",
      "name:  wrench\n",
      "name:  yin_yang\n"
     ]
    }
   ],
   "source": [
    "for name in directories:\n",
    "    images = get_files(os.path.join(root, name))\n",
    "    print('name: ', name)\n",
    "    for im in images:\n",
    "        img = cv2.imread(os.path.join(root, name, im))\n",
    "        #choose dimension according to the network used\n",
    "        img = cv2.resize(img, (227,227))\n",
    "        #print('image: ', im)\n",
    "        cv2.imwrite(os.path.join(root, name, im), img)   \n",
    "        cv2.destroyAllWindows()"
   ]
  }
 ],
 "metadata": {
  "kernelspec": {
   "display_name": "Python [conda root]",
   "language": "python",
   "name": "conda-root-py"
  },
  "language_info": {
   "codemirror_mode": {
    "name": "ipython",
    "version": 3
   },
   "file_extension": ".py",
   "mimetype": "text/x-python",
   "name": "python",
   "nbconvert_exporter": "python",
   "pygments_lexer": "ipython3",
   "version": "3.5.2"
  }
 },
 "nbformat": 4,
 "nbformat_minor": 1
}
